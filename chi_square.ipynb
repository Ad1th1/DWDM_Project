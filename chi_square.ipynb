import numpy as np
import pandas as pd 
from scipy.stats import chisquare

df = pd.read_csv(r"C:\Users\adith\Downloads\Social_status_of_suicide_victims_state.csv")
STATE = np.array(df['STATE/UT'])
Year = np.array(df['Year'])
year_=int(input("Please Enter the Year: "))
state = input("Enter the name of the state: ")
ind = []

from sklearn import preprocessing

le = preprocessing.LabelEncoder()
le.fit(df.CAUSE)
df['categorical_label'] = le.transform(df.CAUSE)

for i in range(len(Year)):
    if Year[i]==year_ and STATE[i] ==state:
        ind.append(i)

start = ind[0]
end = ind[-1]
df1 = df.iloc[start:end,:]
df2 = df1[['Male','Female']]
print(chisquare(df2))
