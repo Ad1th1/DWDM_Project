import numpy as np
from scipy import stats

# Define the data
age = np.array([18, 30, 45, 60, 100])
male = np.array([10994, 24554, 40415, 37941, 5075])
female = np.array([3547, 5607, 11629, 18588, 5655])

# Perform linear regression for Male
slope, intercept, r_value, p_value, std_err = stats.linregress(age, male)

# Print the results
print("Linear regression for Male:")
print("Slope:", slope)
print("Intercept:", intercept)
print("R-value:", r_value)
print("P-value:", p_value)
print("Standard error:", std_err)

# Perform linear regression for Female
slope, intercept, r_value, p_value, std_err = stats.linregress(age, female)

# Print the results
